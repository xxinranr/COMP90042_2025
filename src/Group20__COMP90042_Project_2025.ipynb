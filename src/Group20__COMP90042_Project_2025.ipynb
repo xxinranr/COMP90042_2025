{
  "cells": [
    {
      "cell_type": "markdown",
      "metadata": {
        "id": "32yCsRUo8H33"
      },
      "source": [
        "# 2025 COMP90042 Project\n",
        "*Make sure you change the file name with your group id.*"
      ]
    },
    {
      "cell_type": "markdown",
      "metadata": {
        "id": "XCybYoGz8YWQ"
      },
      "source": [
        "# Readme\n",
        "*If there is something to be noted for the marker, please mention here.*\n",
        "\n",
        "*If you are planning to implement a program with Object Oriented Programming style, please put those the bottom of this ipynb file*"
      ]
    },
    {
      "cell_type": "markdown",
      "metadata": {
        "id": "6po98qVA8bJD"
      },
      "source": [
        "# 1.DataSet Processing\n",
        "(You can add as many code blocks and text blocks as you need. However, YOU SHOULD NOT MODIFY the section title)"
      ]
    },
    {
      "cell_type": "code",
      "execution_count": null,
      "metadata": {
        "id": "qvff21Hv8zjk"
      },
      "outputs": [
        {
          "name": "stdout",
          "output_type": "stream",
          "text": [
            "TRAIN set:\n",
            "→ #claims: 1228\n",
            "→ class dist: Counter({'SUPPORTS': 519, 'NOT_ENOUGH_INFO': 386, 'REFUTES': 199, 'DISPUTED': 124})\n",
            "→ avg. evidences/claim: 3.36\n",
            "\n",
            "DEV set:\n",
            "→ #claims: 154\n",
            "→ class dist: Counter({'SUPPORTS': 68, 'NOT_ENOUGH_INFO': 41, 'REFUTES': 27, 'DISPUTED': 18})\n",
            "→ avg. evidences/claim: 3.19\n",
            "\n",
            "#evidence passages: 1208827\n",
            "passage length (tokens) — avg: 19.7, max: 479, min: 1\n"
          ]
        }
      ],
      "source": [
        "import json\n",
        "from collections import Counter\n",
        "import numpy as np\n",
        "\n",
        "# Load data\n",
        "with open(\"data/train-claims.json\") as f:\n",
        "    train = json.load(f)\n",
        "with open(\"data/dev-claims.json\") as f:\n",
        "    dev = json.load(f)\n",
        "with open(\"data/test-claims-unlabelled.json\") as f:\n",
        "    test = json.load(f)\n",
        "with open(\"data/evidence.json\") as f:\n",
        "    evidence = json.load(f)\n",
        "\n",
        "# Claim counts and class distribution\n",
        "def summarize_claims(claim_dict):\n",
        "    labels = [info[\"claim_label\"] for info in claim_dict.values()]\n",
        "    evid_counts = [len(info[\"evidences\"]) for info in claim_dict.values()]\n",
        "    print(f\"→ #claims: {len(labels)}\")\n",
        "    print(\"→ class dist:\", Counter(labels))\n",
        "    print(f\"→ avg. evidences/claim: {np.mean(evid_counts):.2f}\")\n",
        "\n",
        "print(\"TRAIN set:\")\n",
        "summarize_claims(train)\n",
        "print(\"\\nDEV set:\")\n",
        "summarize_claims(dev)\n",
        "\n",
        "# Evidence corpus stats\n",
        "lengths = [len(txt.split()) for txt in evidence.values()]\n",
        "print(f\"\\n#evidence passages: {len(lengths)}\")\n",
        "print(f\"passage length (tokens) — avg: {np.mean(lengths):.1f}, max: {np.max(lengths)}, min: {np.min(lengths)}\")\n"
      ]
    },
    {
      "cell_type": "markdown",
      "metadata": {
        "id": "1FA2ao2l8hOg"
      },
      "source": [
        "# 2. Model Implementation\n",
        "(You can add as many code blocks and text blocks as you need. However, YOU SHOULD NOT MODIFY the section title)"
      ]
    },
    {
      "cell_type": "markdown",
      "metadata": {},
      "source": [
        "## Baseline Model"
      ]
    },
    {
      "cell_type": "code",
      "execution_count": null,
      "metadata": {
        "id": "QIEqDDT78q39"
      },
      "outputs": [],
      "source": [
        "from sklearn.feature_extraction.text import TfidfVectorizer\n",
        "from sklearn.linear_model import LogisticRegression\n",
        "from sklearn.metrics.pairwise import cosine_similarity\n",
        "import numpy as np\n",
        "\n",
        "# 1. Fit TF-IDF on evidence\n",
        "ev_texts = list(evidence.values())\n",
        "ev_ids   = list(evidence.keys())\n",
        "ev_vec   = TfidfVectorizer(max_features=50000).fit(ev_texts)\n",
        "ev_tfidf = ev_vec.transform(ev_texts)\n",
        "\n",
        "# 2. For each train claim, retrieve top-1 evidence\n",
        "train_docs, train_labels = [], []\n",
        "for cid, info in train_claims.items():\n",
        "    ctf = ev_vec.transform([info[\"claim_text\"]])\n",
        "    sims = cosine_similarity(ctf, ev_tfidf)[0]\n",
        "    top1 = np.argmax(sims)\n",
        "    doc = info[\"claim_text\"] + \" \" + ev_texts[top1]\n",
        "    train_docs.append(doc)\n",
        "    train_labels.append(info[\"claim_label\"])\n",
        "\n",
        "# 3. Vectorize claim+evidence concatenations\n",
        "clf_vec = TfidfVectorizer(max_features=50000)\n",
        "X_train = clf_vec.fit_transform(train_docs)\n",
        "\n",
        "# 4. Train classifier\n",
        "clf = LogisticRegression(max_iter=1000)\n",
        "clf.fit(X_train, train_labels)\n",
        "\n",
        "# 5. Evaluate on dev set similarly\n"
      ]
    },
    {
      "cell_type": "markdown",
      "metadata": {
        "id": "EzGuzHPE87Ya"
      },
      "source": [
        "# 3.Testing and Evaluation\n",
        "(You can add as many code blocks and text blocks as you need. However, YOU SHOULD NOT MODIFY the section title)"
      ]
    },
    {
      "cell_type": "code",
      "execution_count": null,
      "metadata": {
        "id": "6ZVeNYIH9IaL"
      },
      "outputs": [],
      "source": []
    },
    {
      "cell_type": "markdown",
      "metadata": {
        "id": "mefSOe8eTmGP"
      },
      "source": [
        "## Object Oriented Programming codes here\n",
        "\n",
        "*You can use multiple code snippets. Just add more if needed*"
      ]
    }
  ],
  "metadata": {
    "colab": {
      "provenance": [],
      "toc_visible": true
    },
    "kernelspec": {
      "display_name": "nlp",
      "language": "python",
      "name": "python3"
    },
    "language_info": {
      "codemirror_mode": {
        "name": "ipython",
        "version": 3
      },
      "file_extension": ".py",
      "mimetype": "text/x-python",
      "name": "python",
      "nbconvert_exporter": "python",
      "pygments_lexer": "ipython3",
      "version": "3.11.11"
    }
  },
  "nbformat": 4,
  "nbformat_minor": 0
}
